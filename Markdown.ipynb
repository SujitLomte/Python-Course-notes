{
 "cells": [
  {
   "cell_type": "markdown",
   "id": "d78bd683-f678-4809-a66f-ac5ad2c24c3b",
   "metadata": {},
   "source": [
    "* '#' is used For header. Increase in the hash symbol Header size gets decrease.\n",
    "* For Ex: # First Level Header, ## Second level header, ### Third level header"
   ]
  },
  {
   "cell_type": "markdown",
   "id": "5fa38226-1518-442c-8da8-a5637a5ceeee",
   "metadata": {},
   "source": [
    "# First Level"
   ]
  },
  {
   "cell_type": "markdown",
   "id": "665411a2-c835-4993-8929-0b897cdf35f0",
   "metadata": {},
   "source": [
    "## Second Level"
   ]
  },
  {
   "cell_type": "markdown",
   "id": "c938599a-0f5f-4400-a219-26ec971354c9",
   "metadata": {},
   "source": [
    "### Third Level"
   ]
  },
  {
   "cell_type": "markdown",
   "id": "eca98425-89c5-43f5-9f96-4ef0d1f5b022",
   "metadata": {},
   "source": [
    "### We can write sentences in markdown cell without any symbol"
   ]
  },
  {
   "cell_type": "markdown",
   "id": "b32676a5-e229-4e0e-9eb8-c517e598c0bf",
   "metadata": {},
   "source": [
    "This is our firs text "
   ]
  },
  {
   "cell_type": "markdown",
   "id": "61803c9b-94e9-40ae-a422-63676a096f88",
   "metadata": {},
   "source": [
    "### To create Bullet boint we use * symbol"
   ]
  },
  {
   "cell_type": "markdown",
   "id": "204712d4-5f6a-401c-a090-77dbd5f71153",
   "metadata": {},
   "source": [
    "* First line\n",
    "* Second line"
   ]
  },
  {
   "cell_type": "markdown",
   "id": "6b355bb0-386c-4f19-adec-698de1330d99",
   "metadata": {},
   "source": [
    "### We can also create List with Numbers"
   ]
  },
  {
   "cell_type": "markdown",
   "id": "2c4580db-339d-4b46-be21-5d1b018284fb",
   "metadata": {},
   "source": [
    "1. First line in list with numbers\n",
    "2. Second line in list with numbers"
   ]
  },
  {
   "cell_type": "markdown",
   "id": "29c8ebef-ab49-49b9-9ea7-5b1c70b593b5",
   "metadata": {},
   "source": [
    "### To write Hyperlinks in markdown cell we use []"
   ]
  },
  {
   "cell_type": "markdown",
   "id": "37b53756-1766-49c4-8b94-4e85146b24a8",
   "metadata": {},
   "source": [
    "[www.google.com]"
   ]
  }
 ],
 "metadata": {
  "kernelspec": {
   "display_name": "Python 3 (ipykernel)",
   "language": "python",
   "name": "python3"
  },
  "language_info": {
   "codemirror_mode": {
    "name": "ipython",
    "version": 3
   },
   "file_extension": ".py",
   "mimetype": "text/x-python",
   "name": "python",
   "nbconvert_exporter": "python",
   "pygments_lexer": "ipython3",
   "version": "3.10.8"
  }
 },
 "nbformat": 4,
 "nbformat_minor": 5
}
