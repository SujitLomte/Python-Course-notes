{
 "cells": [
  {
   "cell_type": "markdown",
   "id": "cd3f7dab-7546-4edd-95bf-e53dbf377fe2",
   "metadata": {},
   "source": [
    "# Taking Inputs"
   ]
  },
  {
   "cell_type": "markdown",
   "id": "606fe29e-ab92-4c0b-973f-90f8c901d6fb",
   "metadata": {},
   "source": [
    "* Use input(promt) to take input from users\n",
    "* The entered input will be converted to a string\n",
    "* print(args) to print out data"
   ]
  },
  {
   "cell_type": "code",
   "execution_count": 3,
   "id": "9697d926-1f97-436d-ab3d-1a8e72149fdc",
   "metadata": {},
   "outputs": [
    {
     "name": "stdin",
     "output_type": "stream",
     "text": [
      "Enter a number here:  11\n"
     ]
    },
    {
     "name": "stdout",
     "output_type": "stream",
     "text": [
      "11\n"
     ]
    }
   ],
   "source": [
    "num = input(\"Enter a number here: \")\n",
    "print(num)"
   ]
  },
  {
   "cell_type": "code",
   "execution_count": 4,
   "id": "ba9f2369-22df-4c13-abb8-cfb2d6e7b064",
   "metadata": {},
   "outputs": [
    {
     "name": "stdin",
     "output_type": "stream",
     "text": [
      "Enter a name Here:  vijay\n"
     ]
    },
    {
     "name": "stdout",
     "output_type": "stream",
     "text": [
      "vijay\n"
     ]
    }
   ],
   "source": [
    "name = input(\"Enter a name Here: \")\n",
    "print(name)"
   ]
  },
  {
   "cell_type": "code",
   "execution_count": 7,
   "id": "c24033e7-9f58-4316-8bd0-0c173d667ef9",
   "metadata": {},
   "outputs": [
    {
     "data": {
      "text/plain": [
       "str"
      ]
     },
     "execution_count": 7,
     "metadata": {},
     "output_type": "execute_result"
    }
   ],
   "source": [
    "type(num) # Output is always string data type"
   ]
  },
  {
   "cell_type": "code",
   "execution_count": 6,
   "id": "ca5da79b-a37c-4dac-bc8a-175e0533f613",
   "metadata": {},
   "outputs": [
    {
     "data": {
      "text/plain": [
       "str"
      ]
     },
     "execution_count": 6,
     "metadata": {},
     "output_type": "execute_result"
    }
   ],
   "source": [
    "type(name) # Output is always string data type"
   ]
  },
  {
   "cell_type": "code",
   "execution_count": 8,
   "id": "34bfc600-9032-4095-be3b-f037989dbac9",
   "metadata": {},
   "outputs": [
    {
     "name": "stdin",
     "output_type": "stream",
     "text": [
      "Enter a number here:  11\n"
     ]
    },
    {
     "name": "stdout",
     "output_type": "stream",
     "text": [
      "11\n"
     ]
    }
   ],
   "source": [
    "# To take int input\n",
    "num = int(input(\"Enter a number here: \"))\n",
    "print(num)"
   ]
  },
  {
   "cell_type": "code",
   "execution_count": 9,
   "id": "d9eb49d4-0519-41dc-a91f-13192cf32511",
   "metadata": {},
   "outputs": [
    {
     "data": {
      "text/plain": [
       "int"
      ]
     },
     "execution_count": 9,
     "metadata": {},
     "output_type": "execute_result"
    }
   ],
   "source": [
    "type(num)"
   ]
  },
  {
   "cell_type": "code",
   "execution_count": 10,
   "id": "17fc4b47-7897-4e50-bcb8-d3fb68b2d779",
   "metadata": {},
   "outputs": [
    {
     "name": "stdout",
     "output_type": "stream",
     "text": [
      "The printed name is vijay\n"
     ]
    }
   ],
   "source": [
    "# Concatenate the name \n",
    "print(\"The printed name is\",name)"
   ]
  },
  {
   "cell_type": "code",
   "execution_count": null,
   "id": "e184947d-1c03-43c1-a0cd-6b837fe5516d",
   "metadata": {},
   "outputs": [],
   "source": []
  }
 ],
 "metadata": {
  "kernelspec": {
   "display_name": "Python 3 (ipykernel)",
   "language": "python",
   "name": "python3"
  },
  "language_info": {
   "codemirror_mode": {
    "name": "ipython",
    "version": 3
   },
   "file_extension": ".py",
   "mimetype": "text/x-python",
   "name": "python",
   "nbconvert_exporter": "python",
   "pygments_lexer": "ipython3",
   "version": "3.10.8"
  }
 },
 "nbformat": 4,
 "nbformat_minor": 5
}
