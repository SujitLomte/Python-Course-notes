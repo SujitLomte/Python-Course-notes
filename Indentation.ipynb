{
 "cells": [
  {
   "cell_type": "markdown",
   "id": "6154e067-a986-442d-a49b-3a7274a26cc8",
   "metadata": {},
   "source": [
    "# White Spaces and Indentation"
   ]
  },
  {
   "cell_type": "markdown",
   "id": "3edb0aa7-a38d-4b8d-affe-a8c62e5a8852",
   "metadata": {},
   "source": [
    "* Python uses indentation to define codes and blocks\n",
    "* Without indentation you will get IndentationError: expected an indtented block"
   ]
  },
  {
   "cell_type": "code",
   "execution_count": 4,
   "id": "35d22598-7ee9-4c3e-978d-76adbefea0b7",
   "metadata": {},
   "outputs": [
    {
     "ename": "IndentationError",
     "evalue": "unexpected indent (2831418850.py, line 2)",
     "output_type": "error",
     "traceback": [
      "\u001b[0;36m  Cell \u001b[0;32mIn[4], line 2\u001b[0;36m\u001b[0m\n\u001b[0;31m    text = \"hi, This is Python Programming Langauge\"\u001b[0m\n\u001b[0m    ^\u001b[0m\n\u001b[0;31mIndentationError\u001b[0m\u001b[0;31m:\u001b[0m unexpected indent\n"
     ]
    }
   ],
   "source": [
    "# Indentation Error \n",
    " text = \"hi, This is Python Programming Langauge\"\n",
    "print(text)"
   ]
  },
  {
   "cell_type": "code",
   "execution_count": 5,
   "id": "345758b1-e3b7-4837-9490-0f063be4a8f2",
   "metadata": {},
   "outputs": [],
   "source": [
    "# the white space befor text must be removed"
   ]
  },
  {
   "cell_type": "code",
   "execution_count": 6,
   "id": "92d3871c-7de6-40e2-8688-9c2dcfc87fba",
   "metadata": {},
   "outputs": [
    {
     "name": "stdout",
     "output_type": "stream",
     "text": [
      "Hello\n"
     ]
    }
   ],
   "source": [
    "if True:\n",
    "    print(\"Hello\")"
   ]
  },
  {
   "cell_type": "code",
   "execution_count": 7,
   "id": "a5fe5998-de02-4ca8-b20d-6feda8dd3cdb",
   "metadata": {},
   "outputs": [
    {
     "ename": "IndentationError",
     "evalue": "expected an indented block after 'if' statement on line 1 (3598588081.py, line 2)",
     "output_type": "error",
     "traceback": [
      "\u001b[0;36m  Cell \u001b[0;32mIn[7], line 2\u001b[0;36m\u001b[0m\n\u001b[0;31m    print(\"Hello\")\u001b[0m\n\u001b[0m    ^\u001b[0m\n\u001b[0;31mIndentationError\u001b[0m\u001b[0;31m:\u001b[0m expected an indented block after 'if' statement on line 1\n"
     ]
    }
   ],
   "source": [
    "if True:\n",
    "print(\"Hello\")"
   ]
  },
  {
   "cell_type": "code",
   "execution_count": 8,
   "id": "25e406b8-7abc-4042-a5b5-f252417fbf03",
   "metadata": {},
   "outputs": [],
   "source": [
    "# In this example space should be there before print. Indentaion is required in this example"
   ]
  },
  {
   "cell_type": "code",
   "execution_count": null,
   "id": "eb44c632-b413-4998-9a9c-e40a31dd8b20",
   "metadata": {},
   "outputs": [],
   "source": []
  }
 ],
 "metadata": {
  "kernelspec": {
   "display_name": "Python 3 (ipykernel)",
   "language": "python",
   "name": "python3"
  },
  "language_info": {
   "codemirror_mode": {
    "name": "ipython",
    "version": 3
   },
   "file_extension": ".py",
   "mimetype": "text/x-python",
   "name": "python",
   "nbconvert_exporter": "python",
   "pygments_lexer": "ipython3",
   "version": "3.10.8"
  }
 },
 "nbformat": 4,
 "nbformat_minor": 5
}
