{
 "cells": [
  {
   "cell_type": "markdown",
   "id": "2e62436c-152b-44d4-b8f8-5bc3e5a2470e",
   "metadata": {},
   "source": [
    "# Varables And Tpes"
   ]
  },
  {
   "cell_type": "markdown",
   "id": "96c83ce4-841f-438d-a7f3-cbecb6a457d0",
   "metadata": {},
   "source": [
    " * A variable is a memory location to store values\n",
    " * No type and no keywords in the variable declaration\n",
    " * Example: lang = \"Python\"\n",
    " * Basic Four types: int,float, bool, and str "
   ]
  },
  {
   "cell_type": "markdown",
   "id": "1aa11304-d7d9-41c6-912b-a59971f20a72",
   "metadata": {},
   "source": [
    "## Rules to write Variable name"
   ]
  },
  {
   "cell_type": "markdown",
   "id": "aa41a869-b0d3-409a-8c1d-61a48d92268a",
   "metadata": {},
   "source": [
    "* Must start with a letter or underscore\n",
    "* Cannot start with a number\n",
    "* Cannot contain any white spaces\n",
    "* Cannot contain math symbol\n",
    "* cannot use any python keywords"
   ]
  },
  {
   "cell_type": "markdown",
   "id": "9d2f1040-a222-4274-a868-c337a32c9b44",
   "metadata": {},
   "source": [
    "# Data Types with Example"
   ]
  },
  {
   "cell_type": "markdown",
   "id": "b229f6d4-f5b1-47be-8abf-40c44c791185",
   "metadata": {},
   "source": [
    "* Integer: 1,2,0,-1,-2,...\n",
    "* Float: 1.3, 2.7,0.9,-1.8,-12.8,...\n",
    "* Bollean: True, False\n",
    "* string: \"Hellow\",\"World\",\"Python Programming Language\""
   ]
  },
  {
   "cell_type": "markdown",
   "id": "d20c93c8-5ee1-4779-b826-44fc8b12f5ee",
   "metadata": {},
   "source": [
    "# Prin Type Function\n",
    "### print function gives the output and type function shows the type of a variable "
   ]
  },
  {
   "cell_type": "code",
   "execution_count": 13,
   "id": "fd23ddc1-1e01-496e-baca-ed0a4e4f4feb",
   "metadata": {},
   "outputs": [],
   "source": [
    "message = \"This is a comprehensive course!\""
   ]
  },
  {
   "cell_type": "code",
   "execution_count": 14,
   "id": "422226fb-4e6a-44f3-a31f-52e31d22ae2d",
   "metadata": {},
   "outputs": [
    {
     "data": {
      "text/plain": [
       "str"
      ]
     },
     "execution_count": 14,
     "metadata": {},
     "output_type": "execute_result"
    }
   ],
   "source": [
    "type(message)"
   ]
  },
  {
   "cell_type": "code",
   "execution_count": 16,
   "id": "04324e65-c44f-4587-82f6-7f0148e2c2a4",
   "metadata": {},
   "outputs": [
    {
     "name": "stdout",
     "output_type": "stream",
     "text": [
      "This is a comprehensive course!\n"
     ]
    }
   ],
   "source": [
    "print(message)"
   ]
  },
  {
   "cell_type": "code",
   "execution_count": 18,
   "id": "edfa3116-a147-4ba9-851d-a1f43d7cd7d0",
   "metadata": {},
   "outputs": [],
   "source": [
    "x = 10\n",
    "y = 20.3\n",
    "z = 20+5j"
   ]
  },
  {
   "cell_type": "code",
   "execution_count": 22,
   "id": "969b31c7-1e81-4401-8f06-a0f004a9a508",
   "metadata": {},
   "outputs": [
    {
     "name": "stdout",
     "output_type": "stream",
     "text": [
      "10\n"
     ]
    }
   ],
   "source": [
    "print(x)"
   ]
  },
  {
   "cell_type": "code",
   "execution_count": 23,
   "id": "f19ceb0d-8bfe-4a1e-8a5f-2dba04250918",
   "metadata": {},
   "outputs": [
    {
     "name": "stdout",
     "output_type": "stream",
     "text": [
      "20.3\n"
     ]
    }
   ],
   "source": [
    "print(y)"
   ]
  },
  {
   "cell_type": "code",
   "execution_count": 24,
   "id": "5c66ae90-b664-4e4c-a89d-0b77e3274620",
   "metadata": {},
   "outputs": [
    {
     "name": "stdout",
     "output_type": "stream",
     "text": [
      "(20+5j)\n"
     ]
    }
   ],
   "source": [
    "print(z)"
   ]
  },
  {
   "cell_type": "code",
   "execution_count": 19,
   "id": "19dd3885-fccc-4427-b5e0-b2bdaacbb60f",
   "metadata": {},
   "outputs": [
    {
     "data": {
      "text/plain": [
       "int"
      ]
     },
     "execution_count": 19,
     "metadata": {},
     "output_type": "execute_result"
    }
   ],
   "source": [
    "type(x)"
   ]
  },
  {
   "cell_type": "code",
   "execution_count": 20,
   "id": "e840e74c-3626-4ab1-b327-da0fb601cea9",
   "metadata": {},
   "outputs": [
    {
     "data": {
      "text/plain": [
       "float"
      ]
     },
     "execution_count": 20,
     "metadata": {},
     "output_type": "execute_result"
    }
   ],
   "source": [
    "type(y)"
   ]
  },
  {
   "cell_type": "code",
   "execution_count": 21,
   "id": "f021363f-96cc-4c98-8f0a-a7a527a71860",
   "metadata": {},
   "outputs": [
    {
     "data": {
      "text/plain": [
       "complex"
      ]
     },
     "execution_count": 21,
     "metadata": {},
     "output_type": "execute_result"
    }
   ],
   "source": [
    "type(z)"
   ]
  },
  {
   "cell_type": "code",
   "execution_count": 25,
   "id": "02426396-f274-4254-8e97-317a1b5247d8",
   "metadata": {},
   "outputs": [],
   "source": [
    "test = True"
   ]
  },
  {
   "cell_type": "code",
   "execution_count": 26,
   "id": "716d297e-3ec8-41cf-bfef-923da554d8a8",
   "metadata": {},
   "outputs": [
    {
     "data": {
      "text/plain": [
       "bool"
      ]
     },
     "execution_count": 26,
     "metadata": {},
     "output_type": "execute_result"
    }
   ],
   "source": [
    "type(test)"
   ]
  },
  {
   "cell_type": "code",
   "execution_count": 27,
   "id": "d0f0e55b-2984-48a7-95a7-9f6969371aeb",
   "metadata": {},
   "outputs": [],
   "source": [
    "test1 = False"
   ]
  },
  {
   "cell_type": "code",
   "execution_count": 28,
   "id": "28f0093e-ad50-4c65-b07a-959fb22d1795",
   "metadata": {},
   "outputs": [
    {
     "data": {
      "text/plain": [
       "bool"
      ]
     },
     "execution_count": 28,
     "metadata": {},
     "output_type": "execute_result"
    }
   ],
   "source": [
    "type(test1)"
   ]
  },
  {
   "cell_type": "code",
   "execution_count": 29,
   "id": "920d1b88-fa1f-46fc-93db-2413930d3b8e",
   "metadata": {},
   "outputs": [
    {
     "data": {
      "text/plain": [
       "int"
      ]
     },
     "execution_count": 29,
     "metadata": {},
     "output_type": "execute_result"
    }
   ],
   "source": [
    "type(1)"
   ]
  },
  {
   "cell_type": "code",
   "execution_count": 30,
   "id": "2a884fc5-28b8-4567-9d8b-9a7768382b4b",
   "metadata": {},
   "outputs": [
    {
     "data": {
      "text/plain": [
       "float"
      ]
     },
     "execution_count": 30,
     "metadata": {},
     "output_type": "execute_result"
    }
   ],
   "source": [
    "type(10.3)"
   ]
  },
  {
   "cell_type": "code",
   "execution_count": 31,
   "id": "b65d86c4-0efe-459c-93e9-c7986d41fb7a",
   "metadata": {},
   "outputs": [
    {
     "data": {
      "text/plain": [
       "bool"
      ]
     },
     "execution_count": 31,
     "metadata": {},
     "output_type": "execute_result"
    }
   ],
   "source": [
    "type(True)"
   ]
  },
  {
   "cell_type": "code",
   "execution_count": 35,
   "id": "84fb3951-7cc0-4e5e-90a1-e0f68e438d1c",
   "metadata": {},
   "outputs": [
    {
     "data": {
      "text/plain": [
       "complex"
      ]
     },
     "execution_count": 35,
     "metadata": {},
     "output_type": "execute_result"
    }
   ],
   "source": [
    "type(3j)\n"
   ]
  },
  {
   "cell_type": "code",
   "execution_count": null,
   "id": "e353e324-278a-4848-b6b8-c0960a1407ff",
   "metadata": {},
   "outputs": [],
   "source": []
  }
 ],
 "metadata": {
  "kernelspec": {
   "display_name": "Python 3 (ipykernel)",
   "language": "python",
   "name": "python3"
  },
  "language_info": {
   "codemirror_mode": {
    "name": "ipython",
    "version": 3
   },
   "file_extension": ".py",
   "mimetype": "text/x-python",
   "name": "python",
   "nbconvert_exporter": "python",
   "pygments_lexer": "ipython3",
   "version": "3.10.8"
  }
 },
 "nbformat": 4,
 "nbformat_minor": 5
}
