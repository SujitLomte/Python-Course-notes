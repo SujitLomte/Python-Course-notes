{
 "cells": [
  {
   "cell_type": "markdown",
   "id": "071e08ad-2107-4141-93fe-20373d691e2d",
   "metadata": {},
   "source": [
    "# String Data Type"
   ]
  },
  {
   "cell_type": "markdown",
   "id": "2919f8f2-e887-427a-b648-ea894c49303e",
   "metadata": {},
   "source": [
    "* Using string to store collection of charactaers\n",
    "* Use \"\"or '' or ''' ''' or \"\"\" \"\"\" to create a string\n",
    "* A string is immutable."
   ]
  },
  {
   "cell_type": "code",
   "execution_count": 2,
   "id": "456d25c5-b4e1-4c99-a974-a24de3ac5b4b",
   "metadata": {},
   "outputs": [
    {
     "data": {
      "text/plain": [
       "str"
      ]
     },
     "execution_count": 2,
     "metadata": {},
     "output_type": "execute_result"
    }
   ],
   "source": [
    "type(\"Welcome to Jupyter\")"
   ]
  },
  {
   "cell_type": "code",
   "execution_count": 3,
   "id": "64e341a6-6e4f-42b7-9e84-4d3abea9b7b1",
   "metadata": {},
   "outputs": [],
   "source": [
    "name = \"Python Data Analysis and Visualiztion\""
   ]
  },
  {
   "cell_type": "code",
   "execution_count": 4,
   "id": "047dee1c-04ad-44d0-92ad-7d83296f3b69",
   "metadata": {},
   "outputs": [
    {
     "data": {
      "text/plain": [
       "str"
      ]
     },
     "execution_count": 4,
     "metadata": {},
     "output_type": "execute_result"
    }
   ],
   "source": [
    "type(name)"
   ]
  },
  {
   "cell_type": "code",
   "execution_count": 5,
   "id": "4428e806-0dd6-4089-ab06-2a0d55c87460",
   "metadata": {},
   "outputs": [],
   "source": [
    "mix = \"Hi number 123\""
   ]
  },
  {
   "cell_type": "code",
   "execution_count": 6,
   "id": "445dac32-808f-4e13-bcf0-267481961e95",
   "metadata": {},
   "outputs": [
    {
     "data": {
      "text/plain": [
       "str"
      ]
     },
     "execution_count": 6,
     "metadata": {},
     "output_type": "execute_result"
    }
   ],
   "source": [
    "type(mix)"
   ]
  },
  {
   "cell_type": "code",
   "execution_count": 7,
   "id": "9002ce77-6af9-47b7-8776-a1f844e99a4a",
   "metadata": {},
   "outputs": [],
   "source": [
    "new_str = \"We said that 'Python is powerful\""
   ]
  },
  {
   "cell_type": "code",
   "execution_count": 8,
   "id": "fe7b2b7f-89b3-47a4-b2c5-2ba0f955a31f",
   "metadata": {},
   "outputs": [
    {
     "data": {
      "text/plain": [
       "\"We said that 'Python is powerful\""
      ]
     },
     "execution_count": 8,
     "metadata": {},
     "output_type": "execute_result"
    }
   ],
   "source": [
    "new_str"
   ]
  },
  {
   "cell_type": "code",
   "execution_count": 10,
   "id": "b5293ac5-b149-43a8-b634-49cf4c3040c5",
   "metadata": {},
   "outputs": [],
   "source": [
    "# If you try to put single qoute in single qoute or double qoute in double qoute you will get Error"
   ]
  },
  {
   "cell_type": "code",
   "execution_count": 9,
   "id": "d5885448-8b90-45b4-b2cf-feb2b6a0ca4e",
   "metadata": {},
   "outputs": [
    {
     "ename": "SyntaxError",
     "evalue": "unterminated string literal (detected at line 1) (2287963454.py, line 1)",
     "output_type": "error",
     "traceback": [
      "\u001b[0;36m  Cell \u001b[0;32mIn[9], line 1\u001b[0;36m\u001b[0m\n\u001b[0;31m    new_str = 'We said that 'Python is powerful'\u001b[0m\n\u001b[0m                                               ^\u001b[0m\n\u001b[0;31mSyntaxError\u001b[0m\u001b[0;31m:\u001b[0m unterminated string literal (detected at line 1)\n"
     ]
    }
   ],
   "source": [
    "new_str = 'We said that 'Python is powerful'"
   ]
  },
  {
   "cell_type": "code",
   "execution_count": 11,
   "id": "e67b3fcf-4e37-4d50-8034-28a69c47c5eb",
   "metadata": {},
   "outputs": [],
   "source": [
    "# to solve This Error put back slash before inner qoute"
   ]
  },
  {
   "cell_type": "code",
   "execution_count": 12,
   "id": "b99fd33a-48ac-48ea-a1d2-2826a0257a67",
   "metadata": {},
   "outputs": [],
   "source": [
    "new_str = 'We said that \\'Python is powerful\\''"
   ]
  },
  {
   "cell_type": "code",
   "execution_count": 13,
   "id": "4c2c1fe1-30cf-4a0e-be19-b791121ba1e2",
   "metadata": {},
   "outputs": [
    {
     "data": {
      "text/plain": [
       "\"We said that 'Python is powerful'\""
      ]
     },
     "execution_count": 13,
     "metadata": {},
     "output_type": "execute_result"
    }
   ],
   "source": [
    "new_str"
   ]
  },
  {
   "cell_type": "code",
   "execution_count": 14,
   "id": "f59f60a4-5aea-4ea1-abdb-6cba20842365",
   "metadata": {},
   "outputs": [],
   "source": [
    "new_str = \"We said that \\\"Python is powerful\\\"\""
   ]
  },
  {
   "cell_type": "code",
   "execution_count": 15,
   "id": "b156ec25-b1e8-4cc6-aa1e-1ab62f126f71",
   "metadata": {},
   "outputs": [
    {
     "data": {
      "text/plain": [
       "'We said that \"Python is powerful\"'"
      ]
     },
     "execution_count": 15,
     "metadata": {},
     "output_type": "execute_result"
    }
   ],
   "source": [
    "new_str"
   ]
  },
  {
   "cell_type": "markdown",
   "id": "e1910482-d239-4eae-b07c-db2b96ad1bb5",
   "metadata": {},
   "source": [
    "# Multiple line string"
   ]
  },
  {
   "cell_type": "code",
   "execution_count": 27,
   "id": "e5634681-711b-47e6-9b2d-0e8b1ea332c7",
   "metadata": {},
   "outputs": [],
   "source": [
    "new_multiple = \"This is a multiple line string Data \\\n",
    "in python programming. \\\n",
    "It's a very easy way as you can see !\""
   ]
  },
  {
   "cell_type": "code",
   "execution_count": 28,
   "id": "ae7d1ddd-06c6-4300-85f7-ec0bc92bd3b0",
   "metadata": {},
   "outputs": [
    {
     "data": {
      "text/plain": [
       "\"This is a multiple line string Data in python programming. It's a very easy way as you can see !\""
      ]
     },
     "execution_count": 28,
     "metadata": {},
     "output_type": "execute_result"
    }
   ],
   "source": [
    "new_multiple"
   ]
  },
  {
   "cell_type": "code",
   "execution_count": 31,
   "id": "4a30950b-88d0-4337-bca6-18fc3a7a25eb",
   "metadata": {},
   "outputs": [],
   "source": [
    "new_multiple1 = \"\"\" Another way to create multiple line string \n",
    "for multiple line text paragraph\n",
    "It's easy also!\"\"\""
   ]
  },
  {
   "cell_type": "code",
   "execution_count": 32,
   "id": "9022bf4f-c44a-4378-ab93-476e5e0fc6c2",
   "metadata": {},
   "outputs": [
    {
     "data": {
      "text/plain": [
       "\" Another way to create multiple line string \\nfor multiple line text paragraph\\nIt's easy also!\""
      ]
     },
     "execution_count": 32,
     "metadata": {},
     "output_type": "execute_result"
    }
   ],
   "source": [
    "new_multiple1"
   ]
  },
  {
   "cell_type": "markdown",
   "id": "8def174f-1c2a-4ae7-908c-6c88fa7e8d17",
   "metadata": {},
   "source": [
    "# Concatenate"
   ]
  },
  {
   "cell_type": "code",
   "execution_count": 33,
   "id": "43cc7ba5-bf60-4fbb-b1b0-ea307bd2215a",
   "metadata": {},
   "outputs": [],
   "source": [
    "word1 = \"Python\"\n",
    "word2 = \"Programming\"\n",
    "fulltext = word1 + \" \" + word2"
   ]
  },
  {
   "cell_type": "code",
   "execution_count": null,
   "id": "30152455-b403-4ae1-b794-27162fc09562",
   "metadata": {},
   "outputs": [
    {
     "data": {
      "text/plain": [
       "'Python Programming'"
      ]
     },
     "execution_count": 34,
     "metadata": {},
     "output_type": "execute_result"
    }
   ],
   "source": [
    "fulltext"
   ]
  },
  {
   "cell_type": "markdown",
   "id": "ff087f7d-2cb5-47b6-b4fd-c1dad342f4d4",
   "metadata": {},
   "source": [
    "# Indexing in String"
   ]
  },
  {
   "cell_type": "code",
   "execution_count": 29,
   "id": "f65234f9-43f5-4fa6-b67a-90c0d308799f",
   "metadata": {},
   "outputs": [],
   "source": [
    "new_str = \"We said that \\\"Python is powerful\\\"\""
   ]
  },
  {
   "cell_type": "code",
   "execution_count": 30,
   "id": "de502172-1561-4ca7-94bb-c982ac45b59c",
   "metadata": {},
   "outputs": [
    {
     "data": {
      "text/plain": [
       "'We said that \"Python is powerful\"'"
      ]
     },
     "execution_count": 30,
     "metadata": {},
     "output_type": "execute_result"
    }
   ],
   "source": [
    "new_str"
   ]
  },
  {
   "cell_type": "code",
   "execution_count": 18,
   "id": "64d8f75e-8712-4aef-b3cf-a1fa00b7adeb",
   "metadata": {},
   "outputs": [
    {
     "data": {
      "text/plain": [
       "'W'"
      ]
     },
     "execution_count": 18,
     "metadata": {},
     "output_type": "execute_result"
    }
   ],
   "source": [
    "new_str[0]"
   ]
  },
  {
   "cell_type": "code",
   "execution_count": 20,
   "id": "2ea1b8ed-66ac-4da4-be36-8b519b444594",
   "metadata": {},
   "outputs": [
    {
     "data": {
      "text/plain": [
       "'e'"
      ]
     },
     "execution_count": 20,
     "metadata": {},
     "output_type": "execute_result"
    }
   ],
   "source": [
    "new_str[1]"
   ]
  },
  {
   "cell_type": "code",
   "execution_count": 21,
   "id": "e6033438-b857-4f51-a5a8-5b7dc636304b",
   "metadata": {},
   "outputs": [
    {
     "data": {
      "text/plain": [
       "'\"'"
      ]
     },
     "execution_count": 21,
     "metadata": {},
     "output_type": "execute_result"
    }
   ],
   "source": [
    "new_str[-1]"
   ]
  },
  {
   "cell_type": "code",
   "execution_count": 22,
   "id": "12767420-3b12-4918-9fb3-0de424c5ffda",
   "metadata": {},
   "outputs": [
    {
     "data": {
      "text/plain": [
       "'r'"
      ]
     },
     "execution_count": 22,
     "metadata": {},
     "output_type": "execute_result"
    }
   ],
   "source": [
    "new_str[-5]"
   ]
  },
  {
   "cell_type": "code",
   "execution_count": 24,
   "id": "dd05f4de-50bd-43bb-9b38-50c7bf9dc7f8",
   "metadata": {},
   "outputs": [
    {
     "data": {
      "text/plain": [
       "'t'"
      ]
     },
     "execution_count": 24,
     "metadata": {},
     "output_type": "execute_result"
    }
   ],
   "source": [
    "new_str[-25]\n"
   ]
  },
  {
   "cell_type": "code",
   "execution_count": 35,
   "id": "54399f67-2220-4f55-b54c-5bc7a1db3946",
   "metadata": {},
   "outputs": [
    {
     "data": {
      "text/plain": [
       "'We said that \"Python'"
      ]
     },
     "execution_count": 35,
     "metadata": {},
     "output_type": "execute_result"
    }
   ],
   "source": [
    "new_str[0:20]"
   ]
  },
  {
   "cell_type": "code",
   "execution_count": 38,
   "id": "b8b90b6b-7005-46eb-b7e7-1836172ada7f",
   "metadata": {},
   "outputs": [
    {
     "data": {
      "text/plain": [
       "'rful'"
      ]
     },
     "execution_count": 38,
     "metadata": {},
     "output_type": "execute_result"
    }
   ],
   "source": [
    "new_str[-5:-1]"
   ]
  },
  {
   "cell_type": "code",
   "execution_count": 44,
   "id": "438ca527-5325-49cd-ac10-44160119ba4e",
   "metadata": {},
   "outputs": [
    {
     "data": {
      "text/plain": [
       "'W adta Pto'"
      ]
     },
     "execution_count": 44,
     "metadata": {},
     "output_type": "execute_result"
    }
   ],
   "source": [
    "new_str[0:20:2]"
   ]
  },
  {
   "cell_type": "code",
   "execution_count": null,
   "id": "658a9f60-7cad-4c04-9a26-aa465a065b86",
   "metadata": {},
   "outputs": [],
   "source": []
  },
  {
   "cell_type": "code",
   "execution_count": null,
   "id": "ce58ac1a-0024-44d8-b4e0-a62bae0608a0",
   "metadata": {},
   "outputs": [],
   "source": []
  },
  {
   "cell_type": "code",
   "execution_count": null,
   "id": "94254158-f296-45b9-894c-0dfa02d860bb",
   "metadata": {},
   "outputs": [],
   "source": []
  },
  {
   "cell_type": "markdown",
   "id": "c30045cf-f7ec-4f25-8e70-cf5658b6ac4d",
   "metadata": {},
   "source": [
    "# In built Functions"
   ]
  },
  {
   "cell_type": "code",
   "execution_count": 17,
   "id": "7e22f8f1-2587-4106-b524-c4c091e03769",
   "metadata": {},
   "outputs": [
    {
     "data": {
      "text/plain": [
       "33"
      ]
     },
     "execution_count": 17,
     "metadata": {},
     "output_type": "execute_result"
    }
   ],
   "source": [
    "len(new_str)"
   ]
  },
  {
   "cell_type": "code",
   "execution_count": 45,
   "id": "1aa0c6a6-ba22-4746-b041-8783dc53a6f3",
   "metadata": {},
   "outputs": [
    {
     "data": {
      "text/plain": [
       "'WE SAID THAT \"PYTHON IS POWERFUL\"'"
      ]
     },
     "execution_count": 45,
     "metadata": {},
     "output_type": "execute_result"
    }
   ],
   "source": [
    "new_str.upper()"
   ]
  },
  {
   "cell_type": "code",
   "execution_count": 47,
   "id": "aa83ca4f-f953-4f60-99da-b2f78bd59ad0",
   "metadata": {},
   "outputs": [
    {
     "data": {
      "text/plain": [
       "'we said that \"python is powerful\"'"
      ]
     },
     "execution_count": 47,
     "metadata": {},
     "output_type": "execute_result"
    }
   ],
   "source": [
    "new_str.lower()"
   ]
  },
  {
   "cell_type": "code",
   "execution_count": 48,
   "id": "f95bbe5f-24f8-47df-ac95-fcae5927c8ca",
   "metadata": {},
   "outputs": [
    {
     "data": {
      "text/plain": [
       "'We said that \"python is powerful\"'"
      ]
     },
     "execution_count": 48,
     "metadata": {},
     "output_type": "execute_result"
    }
   ],
   "source": [
    "new_str.capitalize()"
   ]
  },
  {
   "cell_type": "code",
   "execution_count": 51,
   "id": "d54afbd5-3ef4-4169-aaee-336ebbb68bbb",
   "metadata": {},
   "outputs": [
    {
     "data": {
      "text/plain": [
       "'we said that \"python is powerful\"'"
      ]
     },
     "execution_count": 51,
     "metadata": {},
     "output_type": "execute_result"
    }
   ],
   "source": [
    "new_str.casefold()"
   ]
  },
  {
   "cell_type": "code",
   "execution_count": 53,
   "id": "5f6e6d06-162d-4ce6-b674-e344af8a6974",
   "metadata": {},
   "outputs": [
    {
     "data": {
      "text/plain": [
       "False"
      ]
     },
     "execution_count": 53,
     "metadata": {},
     "output_type": "execute_result"
    }
   ],
   "source": [
    "new_str.isalnum()"
   ]
  },
  {
   "cell_type": "code",
   "execution_count": 54,
   "id": "c05c7c8b-01fb-4085-b1f9-5046747b39bb",
   "metadata": {},
   "outputs": [
    {
     "data": {
      "text/plain": [
       "False"
      ]
     },
     "execution_count": 54,
     "metadata": {},
     "output_type": "execute_result"
    }
   ],
   "source": [
    "new_str.isalpha()"
   ]
  },
  {
   "cell_type": "code",
   "execution_count": 56,
   "id": "9e8e4b5a-cdff-4ecb-bf60-85db8a9b65ea",
   "metadata": {},
   "outputs": [
    {
     "data": {
      "text/plain": [
       "False"
      ]
     },
     "execution_count": 56,
     "metadata": {},
     "output_type": "execute_result"
    }
   ],
   "source": [
    "new_str.isspace()"
   ]
  },
  {
   "cell_type": "code",
   "execution_count": 57,
   "id": "8bf55eea-12d8-4fc9-9653-53ae0f753924",
   "metadata": {},
   "outputs": [],
   "source": [
    "new_str1 = \" Python \""
   ]
  },
  {
   "cell_type": "code",
   "execution_count": 58,
   "id": "570e7c72-97b2-42dd-b44b-1cf95eab899b",
   "metadata": {},
   "outputs": [
    {
     "data": {
      "text/plain": [
       "'Python'"
      ]
     },
     "execution_count": 58,
     "metadata": {},
     "output_type": "execute_result"
    }
   ],
   "source": [
    "new_str1.strip()"
   ]
  },
  {
   "cell_type": "code",
   "execution_count": 59,
   "id": "7b7c327d-b48f-45a0-9b63-ff2bc709cfa5",
   "metadata": {},
   "outputs": [
    {
     "data": {
      "text/plain": [
       "'Python '"
      ]
     },
     "execution_count": 59,
     "metadata": {},
     "output_type": "execute_result"
    }
   ],
   "source": [
    "new_str1.lstrip()"
   ]
  },
  {
   "cell_type": "code",
   "execution_count": 60,
   "id": "c21ea806-4d32-49dd-bb5c-3d5070c24cf0",
   "metadata": {},
   "outputs": [
    {
     "data": {
      "text/plain": [
       "' Python'"
      ]
     },
     "execution_count": 60,
     "metadata": {},
     "output_type": "execute_result"
    }
   ],
   "source": [
    "new_str1.rstrip()"
   ]
  },
  {
   "cell_type": "code",
   "execution_count": null,
   "id": "51abfd87-a496-422e-aca5-83cd177c3984",
   "metadata": {},
   "outputs": [],
   "source": []
  }
 ],
 "metadata": {
  "kernelspec": {
   "display_name": "Python 3 (ipykernel)",
   "language": "python",
   "name": "python3"
  },
  "language_info": {
   "codemirror_mode": {
    "name": "ipython",
    "version": 3
   },
   "file_extension": ".py",
   "mimetype": "text/x-python",
   "name": "python",
   "nbconvert_exporter": "python",
   "pygments_lexer": "ipython3",
   "version": "3.10.8"
  }
 },
 "nbformat": 4,
 "nbformat_minor": 5
}
