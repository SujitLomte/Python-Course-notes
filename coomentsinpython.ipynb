{
 "cells": [
  {
   "cell_type": "markdown",
   "id": "d3012c60-0430-4a91-97c0-088fb48f6635",
   "metadata": {},
   "source": [
    "# Coments in Python"
   ]
  },
  {
   "cell_type": "markdown",
   "id": "27e52d99-5af5-4c81-829e-8c8ee57477ad",
   "metadata": {},
   "source": [
    "* Using a Comment to describe the code and make it more redable and understandable.\n",
    "* Single line comment amd Multiple line comment\n",
    "* (#) This is comment syntax in Python"
   ]
  },
  {
   "cell_type": "markdown",
   "id": "86117868-f1c6-4fb2-ae07-bcc2067ee514",
   "metadata": {},
   "source": [
    " Ex for single line comment\n",
    " '#' Block single line cooment"
   ]
  },
  {
   "cell_type": "code",
   "execution_count": 3,
   "id": "0b56bb94-31d6-433d-9eff-5ec29343d374",
   "metadata": {},
   "outputs": [],
   "source": [
    "# Block Single line comment"
   ]
  },
  {
   "cell_type": "code",
   "execution_count": 5,
   "id": "a76aa921-1454-420e-8778-aae1c5be3a74",
   "metadata": {},
   "outputs": [
    {
     "name": "stdout",
     "output_type": "stream",
     "text": [
      "Hellow World\n"
     ]
    }
   ],
   "source": [
    "# Print Hellow World programme\n",
    "print(\"Hellow World\")"
   ]
  },
  {
   "cell_type": "markdown",
   "id": "c03e8fff-285c-4232-9573-6564f26bae99",
   "metadata": {},
   "source": [
    "This is multiple line comment using # symbol\n"
   ]
  },
  {
   "cell_type": "code",
   "execution_count": 6,
   "id": "d7f385c2-46c1-4e39-b1df-73703606aad3",
   "metadata": {},
   "outputs": [],
   "source": [
    "# First line of cooment\n",
    "# Second line of comment\n",
    "# Third line of comment"
   ]
  },
  {
   "cell_type": "markdown",
   "id": "db9f1074-c70d-43df-80f6-657f2265fb0c",
   "metadata": {},
   "source": [
    "This is Single line comment using ## symbol"
   ]
  },
  {
   "cell_type": "code",
   "execution_count": 17,
   "id": "fe041287-0855-4c11-8933-ef17730e83b1",
   "metadata": {},
   "outputs": [],
   "source": [
    "## This is comment using Two # symbol"
   ]
  },
  {
   "cell_type": "markdown",
   "id": "67ab44ca-d193-4d05-88bb-1e46c1d55a75",
   "metadata": {},
   "source": [
    "This is multiple line comment using ## symbol"
   ]
  },
  {
   "cell_type": "code",
   "execution_count": 20,
   "id": "132f4c90-b04f-4f66-a0c9-c2eb17320a6e",
   "metadata": {},
   "outputs": [],
   "source": [
    "## First line of cooment\n",
    "## Second line of comment\n",
    "## Third line of comment"
   ]
  },
  {
   "cell_type": "markdown",
   "id": "59661631-82ff-42b8-965e-71b3acf7999b",
   "metadata": {},
   "source": [
    "This is Single line comment using ### symbol"
   ]
  },
  {
   "cell_type": "code",
   "execution_count": 21,
   "id": "59beae8a-8cca-4bff-a7b4-bda547b3900b",
   "metadata": {},
   "outputs": [],
   "source": [
    "### This is comment"
   ]
  },
  {
   "cell_type": "markdown",
   "id": "5041e17d-5712-4d50-baaa-69f24c384848",
   "metadata": {},
   "source": [
    "This is multiple line comment using ### symbol"
   ]
  },
  {
   "cell_type": "code",
   "execution_count": 23,
   "id": "f14e1900-20d1-4b45-a311-0578a18b81ab",
   "metadata": {},
   "outputs": [],
   "source": [
    "### First line of cooment\n",
    "### Second line of comment\n",
    "### Third line of comment"
   ]
  },
  {
   "cell_type": "code",
   "execution_count": 7,
   "id": "b4dcdc84-0c3a-4066-a8d6-5133d6e6a439",
   "metadata": {},
   "outputs": [],
   "source": [
    "# Multiple line comment using \"\"\" symbol"
   ]
  },
  {
   "cell_type": "code",
   "execution_count": 14,
   "id": "8f1db6d9-addd-4032-bb3d-e0fa7a3fb065",
   "metadata": {},
   "outputs": [
    {
     "data": {
      "text/plain": [
       "'First line of comment\\n Second line of comment\\n Third line of comment\\n'"
      ]
     },
     "execution_count": 14,
     "metadata": {},
     "output_type": "execute_result"
    }
   ],
   "source": [
    "\"\"\"First line of comment\n",
    " Second line of comment\n",
    " Third line of comment\n",
    "\"\"\""
   ]
  },
  {
   "cell_type": "code",
   "execution_count": 16,
   "id": "675dc3ff-66d7-410d-846d-b713d4a9f60f",
   "metadata": {},
   "outputs": [
    {
     "data": {
      "text/plain": [
       "'this is '"
      ]
     },
     "execution_count": 16,
     "metadata": {},
     "output_type": "execute_result"
    }
   ],
   "source": [
    "\"This is comment"
   ]
  },
  {
   "cell_type": "code",
   "execution_count": null,
   "id": "a2fb1caa-479a-4f21-bb81-7d95b3182776",
   "metadata": {},
   "outputs": [],
   "source": []
  }
 ],
 "metadata": {
  "kernelspec": {
   "display_name": "Python 3 (ipykernel)",
   "language": "python",
   "name": "python3"
  },
  "language_info": {
   "codemirror_mode": {
    "name": "ipython",
    "version": 3
   },
   "file_extension": ".py",
   "mimetype": "text/x-python",
   "name": "python",
   "nbconvert_exporter": "python",
   "pygments_lexer": "ipython3",
   "version": "3.10.8"
  }
 },
 "nbformat": 4,
 "nbformat_minor": 5
}
