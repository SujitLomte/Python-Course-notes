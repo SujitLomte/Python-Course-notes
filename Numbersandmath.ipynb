{
 "cells": [
  {
   "cell_type": "markdown",
   "id": "77456b69-d034-4404-a435-9f24045206bd",
   "metadata": {},
   "source": [
    "# Numbers, Math and f-strings"
   ]
  },
  {
   "cell_type": "markdown",
   "id": "1ed821e2-059a-4822-8065-e29619cd09d9",
   "metadata": {},
   "source": [
    "* Number Types: int, float, complex\n",
    "* Conversions: int(), float(),and complex()\n",
    "* Math operation order: (), **, *, /, +, -"
   ]
  },
  {
   "cell_type": "code",
   "execution_count": 1,
   "id": "8555d18c-9e33-4cae-bd64-26e708d69453",
   "metadata": {},
   "outputs": [],
   "source": [
    "x = 10"
   ]
  },
  {
   "cell_type": "code",
   "execution_count": 2,
   "id": "fe64be8c-f607-47a0-9035-2a7ae42fa053",
   "metadata": {},
   "outputs": [
    {
     "data": {
      "text/plain": [
       "int"
      ]
     },
     "execution_count": 2,
     "metadata": {},
     "output_type": "execute_result"
    }
   ],
   "source": [
    "type(x)"
   ]
  },
  {
   "cell_type": "code",
   "execution_count": 3,
   "id": "08d51627-2f82-484c-b4b4-5c30d4c51b60",
   "metadata": {},
   "outputs": [
    {
     "data": {
      "text/plain": [
       "10"
      ]
     },
     "execution_count": 3,
     "metadata": {},
     "output_type": "execute_result"
    }
   ],
   "source": [
    "int(x)"
   ]
  },
  {
   "cell_type": "code",
   "execution_count": 5,
   "id": "df4dec73-5511-4568-9ea7-4def0c77316c",
   "metadata": {},
   "outputs": [],
   "source": [
    "y = \"11\""
   ]
  },
  {
   "cell_type": "code",
   "execution_count": 6,
   "id": "5dbe7e27-24d1-4744-bd14-39f22ff6466f",
   "metadata": {},
   "outputs": [
    {
     "data": {
      "text/plain": [
       "str"
      ]
     },
     "execution_count": 6,
     "metadata": {},
     "output_type": "execute_result"
    }
   ],
   "source": [
    "type(y)"
   ]
  },
  {
   "cell_type": "code",
   "execution_count": 8,
   "id": "9447a814-aaf4-4171-8dd7-69df16ffb7a8",
   "metadata": {},
   "outputs": [
    {
     "data": {
      "text/plain": [
       "11"
      ]
     },
     "execution_count": 8,
     "metadata": {},
     "output_type": "execute_result"
    }
   ],
   "source": [
    "int(y) #Type casting"
   ]
  },
  {
   "cell_type": "code",
   "execution_count": 9,
   "id": "c4618b0c-6999-4919-855a-be2e5509e034",
   "metadata": {},
   "outputs": [
    {
     "data": {
      "text/plain": [
       "3"
      ]
     },
     "execution_count": 9,
     "metadata": {},
     "output_type": "execute_result"
    }
   ],
   "source": [
    "int(3.5)"
   ]
  },
  {
   "cell_type": "code",
   "execution_count": 10,
   "id": "08963a8e-066d-494a-908e-491819d5ca39",
   "metadata": {},
   "outputs": [],
   "source": [
    "x = 4.9"
   ]
  },
  {
   "cell_type": "code",
   "execution_count": 11,
   "id": "00490cc5-9e9e-45ed-987f-e0672f1e4dea",
   "metadata": {},
   "outputs": [
    {
     "data": {
      "text/plain": [
       "float"
      ]
     },
     "execution_count": 11,
     "metadata": {},
     "output_type": "execute_result"
    }
   ],
   "source": [
    "type(x)"
   ]
  },
  {
   "cell_type": "code",
   "execution_count": 12,
   "id": "000c82f0-7cc3-4d4c-93f0-732fb655ed9d",
   "metadata": {},
   "outputs": [],
   "source": [
    "y = 11"
   ]
  },
  {
   "cell_type": "code",
   "execution_count": 13,
   "id": "a93f62af-c0e2-4961-a8e5-b62dea714d11",
   "metadata": {},
   "outputs": [
    {
     "data": {
      "text/plain": [
       "11.0"
      ]
     },
     "execution_count": 13,
     "metadata": {},
     "output_type": "execute_result"
    }
   ],
   "source": [
    "float(y)"
   ]
  },
  {
   "cell_type": "code",
   "execution_count": 14,
   "id": "f5389fc6-6705-45b5-9490-73a4f41989f7",
   "metadata": {},
   "outputs": [
    {
     "data": {
      "text/plain": [
       "23.0"
      ]
     },
     "execution_count": 14,
     "metadata": {},
     "output_type": "execute_result"
    }
   ],
   "source": [
    "float(23)"
   ]
  },
  {
   "cell_type": "code",
   "execution_count": 15,
   "id": "faee12a6-ce66-4ebf-8502-f6491cf5b7f6",
   "metadata": {},
   "outputs": [
    {
     "data": {
      "text/plain": [
       "3.1"
      ]
     },
     "execution_count": 15,
     "metadata": {},
     "output_type": "execute_result"
    }
   ],
   "source": [
    "float(\"3.1\")"
   ]
  },
  {
   "cell_type": "code",
   "execution_count": 16,
   "id": "8286a1b5-0d27-431e-84f5-c06dc915411d",
   "metadata": {},
   "outputs": [],
   "source": [
    "z = 3e+19"
   ]
  },
  {
   "cell_type": "code",
   "execution_count": 17,
   "id": "a2a76c1d-79d1-4eec-bed2-4470faa2d26c",
   "metadata": {},
   "outputs": [
    {
     "data": {
      "text/plain": [
       "float"
      ]
     },
     "execution_count": 17,
     "metadata": {},
     "output_type": "execute_result"
    }
   ],
   "source": [
    "type(z)"
   ]
  },
  {
   "cell_type": "code",
   "execution_count": 18,
   "id": "e032b872-26b6-4e00-bdef-56a2bb3f1000",
   "metadata": {},
   "outputs": [
    {
     "data": {
      "text/plain": [
       "3e+19"
      ]
     },
     "execution_count": 18,
     "metadata": {},
     "output_type": "execute_result"
    }
   ],
   "source": [
    "float(z)"
   ]
  },
  {
   "cell_type": "code",
   "execution_count": 19,
   "id": "f9b9d798-1b46-4ee9-9149-fc9a113a984e",
   "metadata": {},
   "outputs": [],
   "source": [
    "w = 9 -7j"
   ]
  },
  {
   "cell_type": "code",
   "execution_count": 20,
   "id": "2f918b73-5c4c-4bdb-8969-5ef32056a6fd",
   "metadata": {},
   "outputs": [
    {
     "data": {
      "text/plain": [
       "complex"
      ]
     },
     "execution_count": 20,
     "metadata": {},
     "output_type": "execute_result"
    }
   ],
   "source": [
    "type(w)"
   ]
  },
  {
   "cell_type": "code",
   "execution_count": 22,
   "id": "4c72e157-5d7e-4d85-ad36-ac442484400c",
   "metadata": {},
   "outputs": [
    {
     "data": {
      "text/plain": [
       "(9-7j)"
      ]
     },
     "execution_count": 22,
     "metadata": {},
     "output_type": "execute_result"
    }
   ],
   "source": [
    "complex(w)"
   ]
  },
  {
   "cell_type": "code",
   "execution_count": 23,
   "id": "e99aad02-2e9b-4f35-9a50-95c315c2dde6",
   "metadata": {},
   "outputs": [
    {
     "data": {
      "text/plain": [
       "(38+0j)"
      ]
     },
     "execution_count": 23,
     "metadata": {},
     "output_type": "execute_result"
    }
   ],
   "source": [
    "complex(38)"
   ]
  },
  {
   "cell_type": "markdown",
   "id": "366aec73-1119-43b1-ab80-8f5c7c9c32d6",
   "metadata": {},
   "source": [
    "# Mathematical operation"
   ]
  },
  {
   "cell_type": "code",
   "execution_count": 24,
   "id": "c211b59c-a730-4342-8f25-5123e30cdb19",
   "metadata": {},
   "outputs": [
    {
     "data": {
      "text/plain": [
       "65"
      ]
     },
     "execution_count": 24,
     "metadata": {},
     "output_type": "execute_result"
    }
   ],
   "source": [
    "10+55"
   ]
  },
  {
   "cell_type": "code",
   "execution_count": 25,
   "id": "de9a612e-1814-4cea-866b-255b7dde13df",
   "metadata": {},
   "outputs": [
    {
     "data": {
      "text/plain": [
       "94"
      ]
     },
     "execution_count": 25,
     "metadata": {},
     "output_type": "execute_result"
    }
   ],
   "source": [
    "99-5"
   ]
  },
  {
   "cell_type": "code",
   "execution_count": 26,
   "id": "3fed2f11-7f03-4158-9c50-6dfd0f46d78d",
   "metadata": {},
   "outputs": [
    {
     "data": {
      "text/plain": [
       "24"
      ]
     },
     "execution_count": 26,
     "metadata": {},
     "output_type": "execute_result"
    }
   ],
   "source": [
    "8*3"
   ]
  },
  {
   "cell_type": "code",
   "execution_count": 27,
   "id": "e9bc21d2-657b-4497-9e21-1fc4c209bfcd",
   "metadata": {},
   "outputs": [
    {
     "data": {
      "text/plain": [
       "6.0"
      ]
     },
     "execution_count": 27,
     "metadata": {},
     "output_type": "execute_result"
    }
   ],
   "source": [
    "12/2"
   ]
  },
  {
   "cell_type": "code",
   "execution_count": 29,
   "id": "f63ed90a-fe7b-4353-86cd-99620a48f2ea",
   "metadata": {},
   "outputs": [
    {
     "data": {
      "text/plain": [
       "125"
      ]
     },
     "execution_count": 29,
     "metadata": {},
     "output_type": "execute_result"
    }
   ],
   "source": [
    "5**3"
   ]
  },
  {
   "cell_type": "code",
   "execution_count": 30,
   "id": "359a7c2a-785d-492f-9bb6-994363309242",
   "metadata": {},
   "outputs": [
    {
     "data": {
      "text/plain": [
       "6"
      ]
     },
     "execution_count": 30,
     "metadata": {},
     "output_type": "execute_result"
    }
   ],
   "source": [
    "12//2"
   ]
  },
  {
   "cell_type": "code",
   "execution_count": 31,
   "id": "944eaa00-00e0-4f58-8e57-a1cff98394d2",
   "metadata": {},
   "outputs": [
    {
     "data": {
      "text/plain": [
       "0"
      ]
     },
     "execution_count": 31,
     "metadata": {},
     "output_type": "execute_result"
    }
   ],
   "source": [
    "12 % 3"
   ]
  },
  {
   "cell_type": "code",
   "execution_count": 32,
   "id": "adbdf460-4f36-4765-a3de-6d8a02fa2050",
   "metadata": {},
   "outputs": [
    {
     "data": {
      "text/plain": [
       "1"
      ]
     },
     "execution_count": 32,
     "metadata": {},
     "output_type": "execute_result"
    }
   ],
   "source": [
    "13 % 3"
   ]
  },
  {
   "cell_type": "code",
   "execution_count": 33,
   "id": "96e11e44-6ed3-4146-a567-b1c5cc5d1c91",
   "metadata": {},
   "outputs": [
    {
     "data": {
      "text/plain": [
       "4.333333333333333"
      ]
     },
     "execution_count": 33,
     "metadata": {},
     "output_type": "execute_result"
    }
   ],
   "source": [
    "13/3"
   ]
  },
  {
   "cell_type": "code",
   "execution_count": 34,
   "id": "a13ba8a0-9559-4ebc-bf58-0e6394bace31",
   "metadata": {},
   "outputs": [
    {
     "ename": "ZeroDivisionError",
     "evalue": "integer division or modulo by zero",
     "output_type": "error",
     "traceback": [
      "\u001b[0;31m---------------------------------------------------------------------------\u001b[0m",
      "\u001b[0;31mZeroDivisionError\u001b[0m                         Traceback (most recent call last)",
      "Cell \u001b[0;32mIn[34], line 1\u001b[0m\n\u001b[0;32m----> 1\u001b[0m \u001b[38;5;241;43m1\u001b[39;49m\u001b[43m \u001b[49m\u001b[38;5;241;43m%\u001b[39;49m\u001b[43m \u001b[49m\u001b[38;5;241;43m0\u001b[39;49m\n",
      "\u001b[0;31mZeroDivisionError\u001b[0m: integer division or modulo by zero"
     ]
    }
   ],
   "source": [
    "1 % 0"
   ]
  },
  {
   "cell_type": "code",
   "execution_count": 35,
   "id": "4775e4c6-0051-4589-bb68-edfe52cb61ec",
   "metadata": {},
   "outputs": [
    {
     "ename": "ZeroDivisionError",
     "evalue": "division by zero",
     "output_type": "error",
     "traceback": [
      "\u001b[0;31m---------------------------------------------------------------------------\u001b[0m",
      "\u001b[0;31mZeroDivisionError\u001b[0m                         Traceback (most recent call last)",
      "Cell \u001b[0;32mIn[35], line 1\u001b[0m\n\u001b[0;32m----> 1\u001b[0m \u001b[38;5;241;43m1\u001b[39;49m\u001b[38;5;241;43m/\u001b[39;49m\u001b[38;5;241;43m0\u001b[39;49m\n",
      "\u001b[0;31mZeroDivisionError\u001b[0m: division by zero"
     ]
    }
   ],
   "source": [
    "1/0"
   ]
  },
  {
   "cell_type": "code",
   "execution_count": 36,
   "id": "3bea7b92-78b6-44e3-812d-13a4b9d36c85",
   "metadata": {},
   "outputs": [
    {
     "ename": "ZeroDivisionError",
     "evalue": "integer division or modulo by zero",
     "output_type": "error",
     "traceback": [
      "\u001b[0;31m---------------------------------------------------------------------------\u001b[0m",
      "\u001b[0;31mZeroDivisionError\u001b[0m                         Traceback (most recent call last)",
      "Cell \u001b[0;32mIn[36], line 1\u001b[0m\n\u001b[0;32m----> 1\u001b[0m \u001b[38;5;241;43m1\u001b[39;49m\u001b[38;5;241;43m/\u001b[39;49m\u001b[38;5;241;43m/\u001b[39;49m\u001b[38;5;241;43m0\u001b[39;49m\n",
      "\u001b[0;31mZeroDivisionError\u001b[0m: integer division or modulo by zero"
     ]
    }
   ],
   "source": [
    "1//0"
   ]
  },
  {
   "cell_type": "code",
   "execution_count": 37,
   "id": "56d647fe-6e60-429d-b8f1-acc2fbfc1e6f",
   "metadata": {},
   "outputs": [
    {
     "data": {
      "text/plain": [
       "16.714285714285715"
      ]
     },
     "execution_count": 37,
     "metadata": {},
     "output_type": "execute_result"
    }
   ],
   "source": [
    "2 * 10 - 5 + (12/7)"
   ]
  },
  {
   "cell_type": "code",
   "execution_count": 38,
   "id": "384784d6-1db7-4021-9707-d4ed405c3531",
   "metadata": {},
   "outputs": [
    {
     "data": {
      "text/plain": [
       "-199.31"
      ]
     },
     "execution_count": 38,
     "metadata": {},
     "output_type": "execute_result"
    }
   ],
   "source": [
    "0.7 - 11.3 * (12 + 5.7)"
   ]
  },
  {
   "cell_type": "code",
   "execution_count": 39,
   "id": "bb89cdc8-ae06-4a52-a101-0f21f9a6a28f",
   "metadata": {},
   "outputs": [
    {
     "data": {
      "text/plain": [
       "8"
      ]
     },
     "execution_count": 39,
     "metadata": {},
     "output_type": "execute_result"
    }
   ],
   "source": [
    "pow(2, 3)"
   ]
  },
  {
   "cell_type": "code",
   "execution_count": 40,
   "id": "1b14dd7c-c517-409f-bae9-2c715e057f25",
   "metadata": {},
   "outputs": [
    {
     "data": {
      "text/plain": [
       "125"
      ]
     },
     "execution_count": 40,
     "metadata": {},
     "output_type": "execute_result"
    }
   ],
   "source": [
    "pow(5, 3)"
   ]
  },
  {
   "cell_type": "code",
   "execution_count": 41,
   "id": "8cd4691a-c8de-4d09-bcd6-bfd6b564cb93",
   "metadata": {},
   "outputs": [
    {
     "data": {
      "text/plain": [
       "4"
      ]
     },
     "execution_count": 41,
     "metadata": {},
     "output_type": "execute_result"
    }
   ],
   "source": [
    "pow(2, 2)"
   ]
  },
  {
   "cell_type": "code",
   "execution_count": 42,
   "id": "bbef0b46-4ef5-4ee7-b1f1-a64ffe9fc357",
   "metadata": {},
   "outputs": [
    {
     "data": {
      "text/plain": [
       "4"
      ]
     },
     "execution_count": 42,
     "metadata": {},
     "output_type": "execute_result"
    }
   ],
   "source": [
    "round(4.5)"
   ]
  },
  {
   "cell_type": "code",
   "execution_count": 43,
   "id": "e9d92f88-2c0a-4acf-a674-3d7e364e5ea7",
   "metadata": {},
   "outputs": [
    {
     "data": {
      "text/plain": [
       "5"
      ]
     },
     "execution_count": 43,
     "metadata": {},
     "output_type": "execute_result"
    }
   ],
   "source": [
    "round(4.5555555555)"
   ]
  },
  {
   "cell_type": "code",
   "execution_count": 44,
   "id": "16cb2bc7-e4e8-486c-a23a-fc465956373f",
   "metadata": {},
   "outputs": [],
   "source": [
    "x = 9.21"
   ]
  },
  {
   "cell_type": "code",
   "execution_count": 45,
   "id": "f8e1847d-a9a6-4a0e-b894-3d6f4d075073",
   "metadata": {},
   "outputs": [
    {
     "name": "stdout",
     "output_type": "stream",
     "text": [
      "We are printing the value of x which is 9.21\n"
     ]
    }
   ],
   "source": [
    "print(f\"We are printing the value of x which is {x}\")"
   ]
  },
  {
   "cell_type": "code",
   "execution_count": 58,
   "id": "6528aac2-53c6-4a17-bf3e-51cb5567294b",
   "metadata": {},
   "outputs": [],
   "source": [
    "name = \"Amir Khan\"\n",
    "age = \"45\""
   ]
  },
  {
   "cell_type": "code",
   "execution_count": 60,
   "id": "645b1fe9-573d-49f4-9e98-d3ed90974b52",
   "metadata": {},
   "outputs": [
    {
     "name": "stdout",
     "output_type": "stream",
     "text": [
      "My name is Amir Khan and my age is 45\n"
     ]
    }
   ],
   "source": [
    "print(\"My name is {} and my age is {}\".format(name,age))"
   ]
  },
  {
   "cell_type": "code",
   "execution_count": null,
   "id": "4688bddd-2b5f-48cf-b85f-0cdbf5d3005d",
   "metadata": {},
   "outputs": [],
   "source": []
  }
 ],
 "metadata": {
  "kernelspec": {
   "display_name": "Python 3 (ipykernel)",
   "language": "python",
   "name": "python3"
  },
  "language_info": {
   "codemirror_mode": {
    "name": "ipython",
    "version": 3
   },
   "file_extension": ".py",
   "mimetype": "text/x-python",
   "name": "python",
   "nbconvert_exporter": "python",
   "pygments_lexer": "ipython3",
   "version": "3.10.8"
  }
 },
 "nbformat": 4,
 "nbformat_minor": 5
}
